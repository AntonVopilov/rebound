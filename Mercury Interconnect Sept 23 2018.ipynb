{
 "cells": [
  {
   "cell_type": "code",
   "execution_count": 1,
   "metadata": {},
   "outputs": [],
   "source": [
    "import rebound \n",
    "import numpy as np\n",
    "import ctypes\n",
    "from ctypes import POINTER, c_double, c_int,byref"
   ]
  },
  {
   "cell_type": "code",
   "execution_count": 60,
   "metadata": {},
   "outputs": [],
   "source": [
    "def move_to_hel(self):\n",
    "    r = self.particles[0].xyz\n",
    "    v = self.particles[0].vxyz\n",
    "    for p in self.particles:\n",
    "        p.x -= r[0]\n",
    "        p.y -= r[1]\n",
    "        p.z -= r[2]\n",
    "        p.vx -= v[0]\n",
    "        p.vy -= v[1]\n",
    "        p.vz -= v[2]        \n",
    "rebound.Simulation.move_to_hel = move_to_hel"
   ]
  },
  {
   "cell_type": "code",
   "execution_count": 2,
   "metadata": {},
   "outputs": [],
   "source": [
    "mercury = ctypes.cdll.LoadLibrary(\"./mercury/mercury.so\")"
   ]
  },
  {
   "cell_type": "code",
   "execution_count": 54,
   "metadata": {},
   "outputs": [],
   "source": [
    "def mercury_step(self):\n",
    "    # assume sim.G=1, sim.particles[0].m =1, sim.dt in yrs/2pi\n",
    "    nbod = c_int(self.N)\n",
    "    nbig = nbod\n",
    "    algor = 1 # Mixed variable Symplectic\n",
    "    NMESS = 1 # number of messages\n",
    "    CMAX = 1 # number of close encounter minima monitored simultaneously \n",
    "    step = mercury.mdt_mvsp_\n",
    "    step.argtypes = [\n",
    "        POINTER(c_double), # real*8              time \n",
    "        POINTER(c_double), # real*8              tstart\n",
    "        POINTER(c_double), # real*8              h0\n",
    "        POINTER(c_double), # real*8              tol\n",
    "        POINTER(c_double), # real*8              rmax\n",
    "        POINTER(c_double*3), # real*8(3)           en\n",
    "        POINTER(c_double*3), # real*8(3)           am\n",
    "        POINTER(c_double*3), # real*8(3)           jcen\n",
    "        POINTER(c_double), # real*8              rcen\n",
    "        POINTER(c_int), # integer             nbod\n",
    "        POINTER(c_int), # integer             nbig\n",
    "        POINTER(c_double*nbod.value), # real*8(nbod)        m\n",
    "        POINTER((c_double*3)*nbod.value), # real*8(3,nbod)      x\n",
    "        POINTER((c_double*3)*nbod.value), # real*8(3,nbod)      v\n",
    "        POINTER((c_double*3)*nbod.value), # real*8(3,nbod)      s\n",
    "        POINTER(c_double*nbod.value), # real*8(nbod)        rphys\n",
    "        POINTER(c_double*nbod.value), # real*8(nbod)        rcrit\n",
    "        POINTER(c_double*nbod.value), # real*8(nbod)        rce\n",
    "        POINTER(c_int), # integer(nbod)       stat\n",
    "    # character*8(nbod)   id\n",
    "        POINTER((c_double*4)*nbod.value), # real*8(4,nbod)      ngf\n",
    "        POINTER(c_int), # integer             algor\n",
    "        POINTER(c_int*8),# integer(8)          opt\n",
    "        POINTER(c_int), # integer             dtflag\n",
    "        POINTER(c_int), # integer             ngflag\n",
    "        POINTER(c_int), # integer             opflag\n",
    "        POINTER(c_int), # integer             colflag\n",
    "        POINTER(c_int), # integer             nclo\n",
    "        POINTER(c_int*CMAX), # integer(CMAX)       iclo\n",
    "        POINTER(c_int*CMAX), # integer(CMAX)       jclo\n",
    "        POINTER(c_double*CMAX), # real*8(CMAX)        dclo\n",
    "        POINTER(c_double*CMAX), # real*8(CMAX)        tclo\n",
    "        POINTER(c_double*CMAX), # real*8(CMAX)        ixvclo\n",
    "        POINTER(c_double*CMAX), # real*8(CMAX)        jxvclo\n",
    "    # character*80(3)     outfile\n",
    "    # character*80(NMESS) mem\n",
    "        POINTER(c_int*NMESS),# integer(NMESS)     lmem\n",
    "        ]\n",
    "\n",
    "\n",
    "    time = c_double(0.)\n",
    "    tstart = c_double(0.)\n",
    "    h0 = c_double(self.dt)\n",
    "    tol = c_double(1e-6)\n",
    "    rmax = c_double(100.)\n",
    "    DoubleArray3 = c_double * 3\n",
    "    en = DoubleArray3(0.,0.,0.)\n",
    "    am = DoubleArray3(0.,0.,0.)\n",
    "    jcen = DoubleArray3(0.,0.,0.)\n",
    "    rcen = c_double(0.)\n",
    "    DoubleArrayNBOD = c_double * nbod.value\n",
    "    DoubleArray3NBOD = (c_double * 3)* nbod.value\n",
    "    _m = []\n",
    "    _x = []\n",
    "    _v = []\n",
    "    _s = []\n",
    "    for p in self.particles:\n",
    "        _m.append(p.m)\n",
    "        _x.append(DoubleArray3(p.x,p.y,p.z))\n",
    "        _v.append(DoubleArray3(p.vx,p.vy,p.vz))\n",
    "        _s.append(DoubleArray3(0.,0.,0.))\n",
    "    m = DoubleArrayNBOD(*_m)\n",
    "    x = DoubleArray3NBOD(*_x)\n",
    "    v = DoubleArray3NBOD(*_v)\n",
    "    s = DoubleArray3NBOD(*_s)\n",
    "    rphys = DoubleArrayNBOD(0.,0.)\n",
    "    rcrit = DoubleArrayNBOD(0.,0.)\n",
    "    rce = DoubleArrayNBOD(0.,0.)\n",
    "    stat = c_int(0)\n",
    "    DoubleArray4 = (c_double * 4)\n",
    "    DoubleArray4NBOD = (c_double * 4) * nbod.value\n",
    "    ngf = DoubleArray4NBOD(DoubleArray4(0,0,0,0),DoubleArray4(0,0,0,0))\n",
    "    algor = c_int(1)\n",
    "    IntArray8 = c_int*8\n",
    "    opt = IntArray8(0,1,1,2,0,1,0,0)\n",
    "    dtflag = c_int(0)\n",
    "    ngflag = c_int(0)\n",
    "    opflag = c_int(0)\n",
    "    colflag = c_int(0)\n",
    "    nclo = c_int(1)\n",
    "    iclo = (c_int*1)(0)\n",
    "    jclo = (c_int*1)(0)\n",
    "    dclo = (c_double*1)(0.)\n",
    "    tclo = (c_double*1)(0.)\n",
    "    ixvclo = (c_double*1)(0.)\n",
    "    jxvclo = (c_double*1)(0.)\n",
    "    lmem = (c_int*1)(0)\n",
    "\n",
    "    step(byref(time), byref(tstart), byref(h0), byref(tol), byref(rmax), byref(en), byref(am), byref(jcen), byref(rcen),\n",
    "         byref(nbod), byref(nbig), byref(m), byref(x), byref(v), byref(s), byref(rphys), byref(rcrit), byref(rce), byref(stat),\n",
    "         byref(ngf), byref(algor), byref(opt), byref(dtflag), byref(ngflag), byref(opflag), byref(colflag), byref(nclo),\n",
    "         byref(iclo), byref(jclo), byref(dclo), byref(tclo), byref(ixvclo), byref(jxvclo), byref(lmem))\n",
    "    for i,p in enumerate(self.particles):\n",
    "        self.particles[i].x = x[i][0]\n",
    "        self.particles[i].y = x[i][1]\n",
    "        self.particles[i].z = x[i][2]\n",
    "        self.particles[i].vx = v[i][0]\n",
    "        self.particles[i].vy = v[i][1]\n",
    "        self.particles[i].vz = v[i][2]\n",
    "    self.t += self.dt\n",
    "rebound.Simulation.mercury_step = mercury_step"
   ]
  },
  {
   "cell_type": "code",
   "execution_count": 55,
   "metadata": {},
   "outputs": [],
   "source": [
    "def getsim():\n",
    "    sim = rebound.Simulation()\n",
    "    sim.add(m=1)\n",
    "    sim.add(a=1,m=1e-3)\n",
    "    sim.integrator = \"whfast\"\n",
    "    sim.dt = 0.1\n",
    "    return sim"
   ]
  },
  {
   "cell_type": "code",
   "execution_count": 62,
   "metadata": {},
   "outputs": [
    {
     "name": "stdout",
     "output_type": "stream",
     "text": [
      "---------------------------------\n",
      "REBOUND version:     \t3.6.6\n",
      "REBOUND built on:    \tAug 20 2018 18:28:37\n",
      "Number of particles: \t2\n",
      "Selected integrator: \twhfast\n",
      "Simulation time:     \t1.0000000000000001e-01\n",
      "Current timestep:    \t0.100000\n",
      "---------------------------------\n",
      "<rebound.Particle object, m=1.0 x=0.0 y=0.0 z=0.0 vx=0.0 vy=0.0 vz=0.0>\n",
      "<rebound.Particle object, m=0.001 x=0.9949991736113559 y=0.09988315429900474 z=0.0 vx=-0.09993308339699877 vy=0.9954965488854135 vz=0.0>\n",
      "---------------------------------\n"
     ]
    }
   ],
   "source": [
    "sim = getsim()\n",
    "sim.mercury_step()\n",
    "sim.move_to_hel()\n",
    "sim.status()"
   ]
  },
  {
   "cell_type": "code",
   "execution_count": 63,
   "metadata": {},
   "outputs": [
    {
     "name": "stdout",
     "output_type": "stream",
     "text": [
      "---------------------------------\n",
      "REBOUND version:     \t3.6.6\n",
      "REBOUND built on:    \tAug 20 2018 18:28:37\n",
      "Number of particles: \t2\n",
      "Selected integrator: \twhfast\n",
      "Simulation time:     \t1.0000000000000001e-01\n",
      "Current timestep:    \t0.100000\n",
      "---------------------------------\n",
      "<rebound.Particle object, m=1.0 x=0.0 y=0.0 z=0.0 vx=0.0 vy=0.0 vz=0.0>\n",
      "<rebound.Particle object, m=0.001 x=0.9949991736113559 y=0.09988315429900477 z=0.0 vx=-0.09993308339699875 vy=0.9954965488854135 vz=0.0>\n",
      "---------------------------------\n"
     ]
    }
   ],
   "source": [
    "sim = getsim()\n",
    "sim.step()\n",
    "sim.move_to_hel()\n",
    "sim.status()"
   ]
  },
  {
   "cell_type": "code",
   "execution_count": null,
   "metadata": {},
   "outputs": [],
   "source": []
  },
  {
   "cell_type": "code",
   "execution_count": null,
   "metadata": {},
   "outputs": [],
   "source": []
  },
  {
   "cell_type": "code",
   "execution_count": null,
   "metadata": {},
   "outputs": [],
   "source": []
  },
  {
   "cell_type": "code",
   "execution_count": null,
   "metadata": {},
   "outputs": [],
   "source": []
  },
  {
   "cell_type": "code",
   "execution_count": null,
   "metadata": {},
   "outputs": [],
   "source": []
  },
  {
   "cell_type": "code",
   "execution_count": null,
   "metadata": {},
   "outputs": [],
   "source": []
  }
 ],
 "metadata": {
  "kernelspec": {
   "display_name": "Python 3",
   "language": "python",
   "name": "python3"
  },
  "language_info": {
   "codemirror_mode": {
    "name": "ipython",
    "version": 3
   },
   "file_extension": ".py",
   "mimetype": "text/x-python",
   "name": "python",
   "nbconvert_exporter": "python",
   "pygments_lexer": "ipython3",
   "version": "3.6.5"
  }
 },
 "nbformat": 4,
 "nbformat_minor": 2
}
