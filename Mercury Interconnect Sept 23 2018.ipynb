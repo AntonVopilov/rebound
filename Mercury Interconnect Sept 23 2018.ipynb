{
 "cells": [
  {
   "cell_type": "code",
   "execution_count": 1,
   "metadata": {},
   "outputs": [],
   "source": [
    "import rebound \n",
    "import numpy as np\n",
    "import ctypes\n",
    "from ctypes import POINTER, c_double, c_int,byref"
   ]
  },
  {
   "cell_type": "code",
   "execution_count": 2,
   "metadata": {},
   "outputs": [],
   "source": [
    "mercury = ctypes.cdll.LoadLibrary(\"./mercury/mercury.so\")"
   ]
  },
  {
   "cell_type": "code",
   "execution_count": 3,
   "metadata": {},
   "outputs": [],
   "source": [
    "nbod = c_int(2)\n",
    "nbig = nbod\n",
    "algor = 1 # Mixed variable Symplectic\n",
    "NMESS = 1 # number of messages\n",
    "CMAX = 1 # number of close encounter minima monitored simultaneously \n",
    "step = mercury.mdt_mvsp_\n",
    "step.argtypes = [\n",
    "    POINTER(c_double), # real*8              time \n",
    "    POINTER(c_double), # real*8              tstart\n",
    "    POINTER(c_double), # real*8              h0\n",
    "    POINTER(c_double), # real*8              tol\n",
    "    POINTER(c_double), # real*8              rmax\n",
    "    POINTER(c_double*3), # real*8(3)           en\n",
    "    POINTER(c_double*3), # real*8(3)           am\n",
    "    POINTER(c_double*3), # real*8(3)           jcen\n",
    "    POINTER(c_double), # real*8              rcen\n",
    "    POINTER(c_int), # integer             nbod\n",
    "    POINTER(c_int), # integer             nbig\n",
    "    POINTER(c_double*nbod.value), # real*8(nbod)        m\n",
    "    POINTER((c_double*nbod.value)*3), # real*8(3,nbod)      x\n",
    "    POINTER((c_double*nbod.value)*3), # real*8(3,nbod)      v\n",
    "    POINTER((c_double*nbod.value)*3), # real*8(3,nbod)      s\n",
    "    POINTER(c_double*nbod.value), # real*8(nbod)        rphys\n",
    "    POINTER(c_double*nbod.value), # real*8(nbod)        rcrit\n",
    "    POINTER(c_double*nbod.value), # real*8(nbod)        rce\n",
    "    POINTER(c_int), # integer(nbod)       stat\n",
    "# character*8(nbod)   id\n",
    "    POINTER((c_double*nbod.value)*4), # real*8(4,nbod)      ngf\n",
    "    POINTER(c_int), # integer             algor\n",
    "    POINTER(c_int*8),# integer(8)          opt\n",
    "    POINTER(c_int), # integer             dtflag\n",
    "    POINTER(c_int), # integer             ngflag\n",
    "    POINTER(c_int), # integer             opflag\n",
    "    POINTER(c_int), # integer             colflag\n",
    "    POINTER(c_int), # integer             nclo\n",
    "    POINTER(c_int*CMAX), # integer(CMAX)       iclo\n",
    "    POINTER(c_int*CMAX), # integer(CMAX)       jclo\n",
    "    POINTER(c_double*CMAX), # real*8(CMAX)        dclo\n",
    "    POINTER(c_double*CMAX), # real*8(CMAX)        tclo\n",
    "    POINTER(c_double*CMAX), # real*8(CMAX)        ixvclo\n",
    "    POINTER(c_double*CMAX), # real*8(CMAX)        jxvclo\n",
    "# character*80(3)     outfile\n",
    "# character*80(NMESS) mem\n",
    "    POINTER(c_int*NMESS),# integer(NMESS)     lmem\n",
    "    ]\n"
   ]
  },
  {
   "cell_type": "code",
   "execution_count": 10,
   "metadata": {},
   "outputs": [
    {
     "data": {
      "text/plain": [
       "775"
      ]
     },
     "execution_count": 10,
     "metadata": {},
     "output_type": "execute_result"
    }
   ],
   "source": [
    "time = c_double(0.)\n",
    "tstart = c_double(0.)\n",
    "h0 = c_double(0.1)\n",
    "tol = c_double(1e-6)\n",
    "rmax = c_double(100.)\n",
    "DoubleArray3 = c_double * 3\n",
    "en = DoubleArray3(0.,0.,0.)\n",
    "am = DoubleArray3(0.,0.,0.)\n",
    "jcen = DoubleArray3(0.,0.,0.)\n",
    "rcen = c_double(0.)\n",
    "DoubleArrayNBOD = c_double * nbod.value\n",
    "DoubleArrayNBOD3 = (c_double * nbod.value)*3\n",
    "m = DoubleArrayNBOD(1e-3,1e-3)\n",
    "x = DoubleArrayNBOD3(DoubleArrayNBOD(1.,2.),DoubleArrayNBOD(0.,0.),DoubleArrayNBOD(0.,0.))\n",
    "v = DoubleArrayNBOD3(DoubleArrayNBOD(0.,0.),DoubleArrayNBOD(1.,0.5),DoubleArrayNBOD(0.,0.))\n",
    "s = DoubleArrayNBOD3(DoubleArrayNBOD(0.,0.),DoubleArrayNBOD(0.,0.),DoubleArrayNBOD(0.,0.))\n",
    "rphys = DoubleArrayNBOD(0.,0.)\n",
    "rcrit = DoubleArrayNBOD(0.,0.)\n",
    "rce = DoubleArrayNBOD(0.,0.)\n",
    "stat = c_int(0)\n",
    "DoubleArrayNBOD4 = (c_double * nbod.value)*4\n",
    "ngf = DoubleArrayNBOD4(DoubleArrayNBOD(0,0),DoubleArrayNBOD(0,0),DoubleArrayNBOD(0,0),DoubleArrayNBOD(0,0))\n",
    "algor = c_int(1)\n",
    "IntArray8 = c_int*8\n",
    "opt = IntArray8(0,1,1,2,0,1,0,0)\n",
    "dtflag = c_int(2)\n",
    "ngflag = c_int(0)\n",
    "opflag = c_int(0)\n",
    "colflag = c_int(0)\n",
    "nclo = c_int(1)\n",
    "iclo = (c_int*1)(0)\n",
    "jclo = (c_int*1)(0)\n",
    "dclo = (c_double*1)(0.)\n",
    "tclo = (c_double*1)(0.)\n",
    "ixvclo = (c_double*1)(0.)\n",
    "jxvclo = (c_double*1)(0.)\n",
    "lmem = (c_int*1)(0)\n",
    "\n",
    "step(byref(time), byref(tstart), byref(h0), byref(tol), byref(rmax), byref(en), byref(am), byref(jcen), byref(rcen),\n",
    "     byref(nbod), byref(nbig), byref(m), byref(x), byref(v), byref(s), byref(rphys), byref(rcrit), byref(rce), byref(stat),\n",
    "     byref(ngf), byref(algor), byref(opt), byref(dtflag), byref(ngflag), byref(opflag), byref(colflag), byref(nclo),\n",
    "     byref(iclo), byref(jclo), byref(dclo), byref(tclo), byref(ixvclo), byref(jxvclo), byref(lmem))"
   ]
  },
  {
   "cell_type": "code",
   "execution_count": 11,
   "metadata": {},
   "outputs": [
    {
     "data": {
      "text/plain": [
       "2.0"
      ]
     },
     "execution_count": 11,
     "metadata": {},
     "output_type": "execute_result"
    }
   ],
   "source": [
    "x[0][1]"
   ]
  },
  {
   "cell_type": "code",
   "execution_count": null,
   "metadata": {},
   "outputs": [],
   "source": []
  }
 ],
 "metadata": {
  "kernelspec": {
   "display_name": "Python 3",
   "language": "python",
   "name": "python3"
  },
  "language_info": {
   "codemirror_mode": {
    "name": "ipython",
    "version": 3
   },
   "file_extension": ".py",
   "mimetype": "text/x-python",
   "name": "python",
   "nbconvert_exporter": "python",
   "pygments_lexer": "ipython3",
   "version": "3.6.5"
  }
 },
 "nbformat": 4,
 "nbformat_minor": 2
}
